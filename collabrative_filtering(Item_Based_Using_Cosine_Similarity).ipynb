{
  "nbformat": 4,
  "nbformat_minor": 0,
  "metadata": {
    "colab": {
      "name": "collabrative filtering(Item Based Using Cosine Similarity).ipynb",
      "version": "0.3.2",
      "provenance": [],
      "collapsed_sections": []
    },
    "kernelspec": {
      "name": "python3",
      "display_name": "Python 3"
    }
  },
  "cells": [
    {
      "metadata": {
        "id": "Ey-4InZKbTXq",
        "colab_type": "text"
      },
      "cell_type": "markdown",
      "source": [
        "# Collabrative Filtering (Item Based)\n",
        "Book Recomendation using Goodreads data"
      ]
    },
    {
      "metadata": {
        "id": "70JHOgoPZdyy",
        "colab_type": "code",
        "colab": {}
      },
      "cell_type": "code",
      "source": [
        "#Import necessary Libraries\n",
        "\n",
        "\n",
        "import numpy as np\n",
        "import pandas as pd\n",
        "import os\n"
      ],
      "execution_count": 0,
      "outputs": []
    },
    {
      "metadata": {
        "id": "zRaQOMF0Zfi6",
        "colab_type": "code",
        "outputId": "d908facd-5a44-40b4-a14d-e19fec2f0735",
        "colab": {
          "base_uri": "https://localhost:8080/",
          "height": 34
        }
      },
      "cell_type": "code",
      "source": [
        "from google.colab import drive\n",
        "drive.mount('/content/drive')"
      ],
      "execution_count": 67,
      "outputs": [
        {
          "output_type": "stream",
          "text": [
            "Drive already mounted at /content/drive; to attempt to forcibly remount, call drive.mount(\"/content/drive\", force_remount=True).\n"
          ],
          "name": "stdout"
        }
      ]
    },
    {
      "metadata": {
        "id": "Qub6_RcTZf72",
        "colab_type": "code",
        "colab": {}
      },
      "cell_type": "code",
      "source": [
        "\n",
        "# Load necessary CSV Files - ratings.csv, books.csv.\n",
        "\n",
        "\n",
        "ratingsDF = pd.read_csv(os.path.join(\"drive\",\"My Drive\",\"Colab Notebooks\", \"goodbooks-10k\",\"ratings.csv\"))\n",
        "bookDF = pd.read_csv(os.path.join(\"drive\",\"My Drive\",\"Colab Notebooks\", \"goodbooks-10k\",\"books.csv\"))\n",
        "bookDF=bookDF.drop(['image_url','small_image_url','title','best_book_id','isbn','isbn13'],axis=1)"
      ],
      "execution_count": 0,
      "outputs": []
    },
    {
      "metadata": {
        "id": "QuvYCTeiaHEQ",
        "colab_type": "code",
        "outputId": "aa5e30df-3543-4455-a09f-4dfd7750f43d",
        "colab": {
          "base_uri": "https://localhost:8080/",
          "height": 343
        }
      },
      "cell_type": "code",
      "source": [
        "#contents in the books.csv file\n",
        "bookDF.head(5)\n"
      ],
      "execution_count": 69,
      "outputs": [
        {
          "output_type": "execute_result",
          "data": {
            "text/html": [
              "<div>\n",
              "<style scoped>\n",
              "    .dataframe tbody tr th:only-of-type {\n",
              "        vertical-align: middle;\n",
              "    }\n",
              "\n",
              "    .dataframe tbody tr th {\n",
              "        vertical-align: top;\n",
              "    }\n",
              "\n",
              "    .dataframe thead th {\n",
              "        text-align: right;\n",
              "    }\n",
              "</style>\n",
              "<table border=\"1\" class=\"dataframe\">\n",
              "  <thead>\n",
              "    <tr style=\"text-align: right;\">\n",
              "      <th></th>\n",
              "      <th>id</th>\n",
              "      <th>book_id</th>\n",
              "      <th>work_id</th>\n",
              "      <th>books_count</th>\n",
              "      <th>authors</th>\n",
              "      <th>original_publication_year</th>\n",
              "      <th>original_title</th>\n",
              "      <th>language_code</th>\n",
              "      <th>average_rating</th>\n",
              "      <th>ratings_count</th>\n",
              "      <th>work_ratings_count</th>\n",
              "      <th>work_text_reviews_count</th>\n",
              "      <th>ratings_1</th>\n",
              "      <th>ratings_2</th>\n",
              "      <th>ratings_3</th>\n",
              "      <th>ratings_4</th>\n",
              "      <th>ratings_5</th>\n",
              "    </tr>\n",
              "  </thead>\n",
              "  <tbody>\n",
              "    <tr>\n",
              "      <th>0</th>\n",
              "      <td>1</td>\n",
              "      <td>2767052</td>\n",
              "      <td>2792775</td>\n",
              "      <td>272</td>\n",
              "      <td>Suzanne Collins</td>\n",
              "      <td>2008.0</td>\n",
              "      <td>The Hunger Games</td>\n",
              "      <td>eng</td>\n",
              "      <td>4.34</td>\n",
              "      <td>4780653</td>\n",
              "      <td>4942365</td>\n",
              "      <td>155254</td>\n",
              "      <td>66715</td>\n",
              "      <td>127936</td>\n",
              "      <td>560092</td>\n",
              "      <td>1481305</td>\n",
              "      <td>2706317</td>\n",
              "    </tr>\n",
              "    <tr>\n",
              "      <th>1</th>\n",
              "      <td>2</td>\n",
              "      <td>3</td>\n",
              "      <td>4640799</td>\n",
              "      <td>491</td>\n",
              "      <td>J.K. Rowling, Mary GrandPré</td>\n",
              "      <td>1997.0</td>\n",
              "      <td>Harry Potter and the Philosopher's Stone</td>\n",
              "      <td>eng</td>\n",
              "      <td>4.44</td>\n",
              "      <td>4602479</td>\n",
              "      <td>4800065</td>\n",
              "      <td>75867</td>\n",
              "      <td>75504</td>\n",
              "      <td>101676</td>\n",
              "      <td>455024</td>\n",
              "      <td>1156318</td>\n",
              "      <td>3011543</td>\n",
              "    </tr>\n",
              "    <tr>\n",
              "      <th>2</th>\n",
              "      <td>3</td>\n",
              "      <td>41865</td>\n",
              "      <td>3212258</td>\n",
              "      <td>226</td>\n",
              "      <td>Stephenie Meyer</td>\n",
              "      <td>2005.0</td>\n",
              "      <td>Twilight</td>\n",
              "      <td>en-US</td>\n",
              "      <td>3.57</td>\n",
              "      <td>3866839</td>\n",
              "      <td>3916824</td>\n",
              "      <td>95009</td>\n",
              "      <td>456191</td>\n",
              "      <td>436802</td>\n",
              "      <td>793319</td>\n",
              "      <td>875073</td>\n",
              "      <td>1355439</td>\n",
              "    </tr>\n",
              "    <tr>\n",
              "      <th>3</th>\n",
              "      <td>4</td>\n",
              "      <td>2657</td>\n",
              "      <td>3275794</td>\n",
              "      <td>487</td>\n",
              "      <td>Harper Lee</td>\n",
              "      <td>1960.0</td>\n",
              "      <td>To Kill a Mockingbird</td>\n",
              "      <td>eng</td>\n",
              "      <td>4.25</td>\n",
              "      <td>3198671</td>\n",
              "      <td>3340896</td>\n",
              "      <td>72586</td>\n",
              "      <td>60427</td>\n",
              "      <td>117415</td>\n",
              "      <td>446835</td>\n",
              "      <td>1001952</td>\n",
              "      <td>1714267</td>\n",
              "    </tr>\n",
              "    <tr>\n",
              "      <th>4</th>\n",
              "      <td>5</td>\n",
              "      <td>4671</td>\n",
              "      <td>245494</td>\n",
              "      <td>1356</td>\n",
              "      <td>F. Scott Fitzgerald</td>\n",
              "      <td>1925.0</td>\n",
              "      <td>The Great Gatsby</td>\n",
              "      <td>eng</td>\n",
              "      <td>3.89</td>\n",
              "      <td>2683664</td>\n",
              "      <td>2773745</td>\n",
              "      <td>51992</td>\n",
              "      <td>86236</td>\n",
              "      <td>197621</td>\n",
              "      <td>606158</td>\n",
              "      <td>936012</td>\n",
              "      <td>947718</td>\n",
              "    </tr>\n",
              "  </tbody>\n",
              "</table>\n",
              "</div>"
            ],
            "text/plain": [
              "   id  book_id  work_id  books_count                      authors  \\\n",
              "0   1  2767052  2792775          272              Suzanne Collins   \n",
              "1   2        3  4640799          491  J.K. Rowling, Mary GrandPré   \n",
              "2   3    41865  3212258          226              Stephenie Meyer   \n",
              "3   4     2657  3275794          487                   Harper Lee   \n",
              "4   5     4671   245494         1356          F. Scott Fitzgerald   \n",
              "\n",
              "   original_publication_year                            original_title  \\\n",
              "0                     2008.0                          The Hunger Games   \n",
              "1                     1997.0  Harry Potter and the Philosopher's Stone   \n",
              "2                     2005.0                                  Twilight   \n",
              "3                     1960.0                     To Kill a Mockingbird   \n",
              "4                     1925.0                          The Great Gatsby   \n",
              "\n",
              "  language_code  average_rating  ratings_count  work_ratings_count  \\\n",
              "0           eng            4.34        4780653             4942365   \n",
              "1           eng            4.44        4602479             4800065   \n",
              "2         en-US            3.57        3866839             3916824   \n",
              "3           eng            4.25        3198671             3340896   \n",
              "4           eng            3.89        2683664             2773745   \n",
              "\n",
              "   work_text_reviews_count  ratings_1  ratings_2  ratings_3  ratings_4  \\\n",
              "0                   155254      66715     127936     560092    1481305   \n",
              "1                    75867      75504     101676     455024    1156318   \n",
              "2                    95009     456191     436802     793319     875073   \n",
              "3                    72586      60427     117415     446835    1001952   \n",
              "4                    51992      86236     197621     606158     936012   \n",
              "\n",
              "   ratings_5  \n",
              "0    2706317  \n",
              "1    3011543  \n",
              "2    1355439  \n",
              "3    1714267  \n",
              "4     947718  "
            ]
          },
          "metadata": {
            "tags": []
          },
          "execution_count": 69
        }
      ]
    },
    {
      "metadata": {
        "id": "sqvsGPK9aJ6A",
        "colab_type": "code",
        "outputId": "5f4abc60-5baa-4de3-ffe3-5997d2f4b9a4",
        "colab": {
          "base_uri": "https://localhost:8080/",
          "height": 204
        }
      },
      "cell_type": "code",
      "source": [
        "#contents in the ratings.csv file\n",
        "ratingsDF.head(5)"
      ],
      "execution_count": 70,
      "outputs": [
        {
          "output_type": "execute_result",
          "data": {
            "text/html": [
              "<div>\n",
              "<style scoped>\n",
              "    .dataframe tbody tr th:only-of-type {\n",
              "        vertical-align: middle;\n",
              "    }\n",
              "\n",
              "    .dataframe tbody tr th {\n",
              "        vertical-align: top;\n",
              "    }\n",
              "\n",
              "    .dataframe thead th {\n",
              "        text-align: right;\n",
              "    }\n",
              "</style>\n",
              "<table border=\"1\" class=\"dataframe\">\n",
              "  <thead>\n",
              "    <tr style=\"text-align: right;\">\n",
              "      <th></th>\n",
              "      <th>book_id</th>\n",
              "      <th>user_id</th>\n",
              "      <th>rating</th>\n",
              "    </tr>\n",
              "  </thead>\n",
              "  <tbody>\n",
              "    <tr>\n",
              "      <th>0</th>\n",
              "      <td>1</td>\n",
              "      <td>314</td>\n",
              "      <td>5</td>\n",
              "    </tr>\n",
              "    <tr>\n",
              "      <th>1</th>\n",
              "      <td>1</td>\n",
              "      <td>439</td>\n",
              "      <td>3</td>\n",
              "    </tr>\n",
              "    <tr>\n",
              "      <th>2</th>\n",
              "      <td>1</td>\n",
              "      <td>588</td>\n",
              "      <td>5</td>\n",
              "    </tr>\n",
              "    <tr>\n",
              "      <th>3</th>\n",
              "      <td>1</td>\n",
              "      <td>1169</td>\n",
              "      <td>4</td>\n",
              "    </tr>\n",
              "    <tr>\n",
              "      <th>4</th>\n",
              "      <td>1</td>\n",
              "      <td>1185</td>\n",
              "      <td>4</td>\n",
              "    </tr>\n",
              "  </tbody>\n",
              "</table>\n",
              "</div>"
            ],
            "text/plain": [
              "   book_id  user_id  rating\n",
              "0        1      314       5\n",
              "1        1      439       3\n",
              "2        1      588       5\n",
              "3        1     1169       4\n",
              "4        1     1185       4"
            ]
          },
          "metadata": {
            "tags": []
          },
          "execution_count": 70
        }
      ]
    },
    {
      "metadata": {
        "id": "DGQIctdtTKYT",
        "colab_type": "code",
        "colab": {
          "base_uri": "https://localhost:8080/",
          "height": 34
        },
        "outputId": "0d54a595-6022-41bb-f2e9-f975c5a635ac"
      },
      "cell_type": "code",
      "source": [
        "ratingsDF.isnull().values.any() #Checking for null values"
      ],
      "execution_count": 79,
      "outputs": [
        {
          "output_type": "execute_result",
          "data": {
            "text/plain": [
              "False"
            ]
          },
          "metadata": {
            "tags": []
          },
          "execution_count": 79
        }
      ]
    },
    {
      "metadata": {
        "id": "ResJTk4wTQri",
        "colab_type": "code",
        "colab": {
          "base_uri": "https://localhost:8080/",
          "height": 34
        },
        "outputId": "705ad5a7-5fc5-468f-9fec-1a52367c9e8f"
      },
      "cell_type": "code",
      "source": [
        "len(ratingsDF) #Total length of ratings table "
      ],
      "execution_count": 81,
      "outputs": [
        {
          "output_type": "execute_result",
          "data": {
            "text/plain": [
              "981756"
            ]
          },
          "metadata": {
            "tags": []
          },
          "execution_count": 81
        }
      ]
    },
    {
      "metadata": {
        "id": "ycK8XB7VTcb1",
        "colab_type": "code",
        "colab": {
          "base_uri": "https://localhost:8080/",
          "height": 51
        },
        "outputId": "568ea16a-86a0-4575-e146-0ba7fba29f7a"
      },
      "cell_type": "code",
      "source": [
        "print(len(ratingsDF.user_id.unique())) #uniques users\n",
        "print(len(ratingsDF.book_id.unique())) #unique books"
      ],
      "execution_count": 83,
      "outputs": [
        {
          "output_type": "stream",
          "text": [
            "53424\n",
            "10000\n"
          ],
          "name": "stdout"
        }
      ]
    },
    {
      "metadata": {
        "id": "RhoBVY6GaMCx",
        "colab_type": "code",
        "colab": {}
      },
      "cell_type": "code",
      "source": [
        "#Buiding a list of dictionaries where each dictionary represents a book. user_id is the key and corresponding rating is its value. \n",
        "\n",
        "listOfDictonaries=[]\n",
        "indexMap = {}\n",
        "reverseIndexMap = {}\n",
        "ptr=0;\n",
        "testdf = ratingsDF\n",
        "testdf=testdf[['user_id','rating']].groupby(testdf['book_id']) # group the ratings table by book id\n",
        "\n",
        "#testdf.groups -------> To view the groups created\n",
        "#testdf.groups.keys() --------------> Gives the keys i.e book ids\n",
        "\n",
        "\n",
        "\n",
        "\n",
        "for groupKey in testdf.groups.keys():\n",
        "    tempDict={}\n",
        "\n",
        "    groupDF = testdf.get_group(groupKey)   #get a group(consists od rating and userid) of particular book_id\n",
        "\n",
        "    for i in range(0,len(groupDF)):\n",
        "        tempDict[groupDF.iloc[i,0]]=groupDF.iloc[i,1]\n",
        "    indexMap[ptr]=groupKey                #A dictionary where key is indexed value(0,1,2 ....) and value is book_id\n",
        "    reverseIndexMap[groupKey] = ptr       #Reverse of indexMap. Here book_id is key and index is value\n",
        "    ptr=ptr+1\n",
        "    listOfDictonaries.append(tempDict)\n",
        "\n"
      ],
      "execution_count": 0,
      "outputs": []
    },
    {
      "metadata": {
        "id": "-iNSV8wfI6xI",
        "colab_type": "text"
      },
      "cell_type": "markdown",
      "source": [
        "**COSINE SIMILARITY: ** is a measure of similarity between two non-zero vectors of an inner product space that measures the cosine of the angle between them.\n",
        "\n",
        "The cosine of two non-zero vectors can be derived by using the Euclidean dot product formula:\n",
        "\n",
        "A.B = |A||B|cos$\\Theta$\n",
        "\n",
        "cos$\\Theta$ = A.B/(|A|.|B|)\n"
      ]
    },
    {
      "metadata": {
        "id": "3R78-7Q1aSVR",
        "colab_type": "code",
        "colab": {}
      },
      "cell_type": "code",
      "source": [
        "#We then use sklearn's DictVectorizer() function to create vectors corresponding to each book. We are trying to create a vector space with users as column vectors. Each point in the vector space represents a book. Rating of the book given an user is its magnitude. We then calculate similarity/distance between books in this vector space.\n",
        "\n",
        "\n",
        "\n",
        "from sklearn.feature_extraction import DictVectorizer\n",
        "dictVectorizer = DictVectorizer(sparse=True)\n",
        "vector = dictVectorizer.fit_transform(listOfDictonaries)\n",
        "#print(vector)"
      ],
      "execution_count": 0,
      "outputs": []
    },
    {
      "metadata": {
        "id": "bvOCwAz8aY2E",
        "colab_type": "code",
        "colab": {
          "base_uri": "https://localhost:8080/",
          "height": 136
        },
        "outputId": "8ebab179-788b-477f-e097-11a4b7539e86"
      },
      "cell_type": "code",
      "source": [
        "#We finally use sklearn's consine_similarity function to calculate pairwise similarity matrix\n",
        "from sklearn.metrics.pairwise import cosine_similarity\n",
        "pairwiseSimilarity = cosine_similarity(vector)\n",
        "print(pairwiseSimilarity) #gives a matrix of distances between 2 vectors"
      ],
      "execution_count": 73,
      "outputs": [
        {
          "output_type": "stream",
          "text": [
            "[[1.         0.55552614 0.50915226 ... 0.         0.         0.        ]\n",
            " [0.55552614 1.         0.52021603 ... 0.         0.         0.00692082]\n",
            " [0.50915226 0.52021603 1.         ... 0.         0.         0.        ]\n",
            " ...\n",
            " [0.         0.         0.         ... 1.         0.         0.        ]\n",
            " [0.         0.         0.         ... 0.         1.         0.        ]\n",
            " [0.         0.00692082 0.         ... 0.         0.         1.        ]]\n"
          ],
          "name": "stdout"
        }
      ]
    },
    {
      "metadata": {
        "id": "nzMsp-F7OgL4",
        "colab_type": "text"
      },
      "cell_type": "markdown",
      "source": [
        "**numpy.argsort(): ** It is a function is used to perform an indirect sort along the given axis using the algorithm specified by the kind keyword. It returns an array of indices of the same shape as arr that that would sort the array."
      ]
    },
    {
      "metadata": {
        "id": "wpMLiNjOaboF",
        "colab_type": "code",
        "colab": {}
      },
      "cell_type": "code",
      "source": [
        "#At last we define a function that takes an input id and outputs 5 top most recomendations\n",
        "\n",
        "def printBookDetails(bookID):\n",
        "    print(\"Title:\", bookDF[bookDF['id']==bookID]['original_title'].values[0])\n",
        "    print(\"Author:\",bookDF[bookDF['id']==bookID]['authors'].values[0])\n",
        "    print(\"Printing Book-ID:\",bookID)\n",
        "    print(\"=================++++++++++++++=========================\")\n",
        "\n",
        "\n",
        "def getTopRecommandations(bookID):\n",
        "    row = reverseIndexMap[bookID]\n",
        "    print(\"------INPUT BOOK--------\")\n",
        "    printBookDetails(bookID)\n",
        "    print(\"-------RECOMMENDATIONS----------\")\n",
        "    \n",
        "    #np.argsort(pairwiseSimilarity[row]) gives the sorted array of similarities of given row. This sorts in ascendending order of similarity\n",
        "    #But we need highest simialr matrix. So we fetch from last.But the last first book is the book itself. So we leave that fetch from second last one using [-7:-2] i.e it fetches from last 7th element to last 2nd element. TO reverse that order we use [::-1] \n",
        "    \n",
        "    similarBookIDs = [printBookDetails(indexMap[i]) for i in np.argsort(pairwiseSimilarity[row])[-7:-2][::-1]] \n"
      ],
      "execution_count": 0,
      "outputs": []
    },
    {
      "metadata": {
        "id": "2TXh0ZFEafwR",
        "colab_type": "code",
        "outputId": "315f79dc-c63f-44f8-d211-8d3b68405bd0",
        "colab": {
          "base_uri": "https://localhost:8080/",
          "height": 459
        }
      },
      "cell_type": "code",
      "source": [
        "# id is the column id in book.csv. Values of id are in [1,10000]\n",
        "getTopRecommandations(123)\n"
      ],
      "execution_count": 76,
      "outputs": [
        {
          "output_type": "stream",
          "text": [
            "------INPUT BOOK--------\n",
            "Title: The Firm\n",
            "Author: John Grisham\n",
            "Printing Book-ID: 123\n",
            "=================++++++++++++++=========================\n",
            "-------RECOMMENDATIONS----------\n",
            "Title: The Pelican Brief\n",
            "Author: John Grisham\n",
            "Printing Book-ID: 281\n",
            "=================++++++++++++++=========================\n",
            "Title: Angels & Demons \n",
            "Author: Dan Brown\n",
            "Printing Book-ID: 9\n",
            "=================++++++++++++++=========================\n",
            "Title: The Client\n",
            "Author: John Grisham\n",
            "Printing Book-ID: 227\n",
            "=================++++++++++++++=========================\n",
            "Title: Divine Secrets of the Ya-Ya Sisterhood\n",
            "Author: Rebecca Wells\n",
            "Printing Book-ID: 136\n",
            "=================++++++++++++++=========================\n",
            "Title: The Secret Life of Bees\n",
            "Author: Sue Monk Kidd\n",
            "Printing Book-ID: 57\n",
            "=================++++++++++++++=========================\n"
          ],
          "name": "stdout"
        }
      ]
    }
  ]
}