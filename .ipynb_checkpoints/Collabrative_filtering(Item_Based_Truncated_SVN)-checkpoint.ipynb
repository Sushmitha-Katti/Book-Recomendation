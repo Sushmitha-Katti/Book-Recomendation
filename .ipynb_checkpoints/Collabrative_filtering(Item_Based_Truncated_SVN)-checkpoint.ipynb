{
 "cells": [
  {
   "cell_type": "code",
   "execution_count": 0,
   "metadata": {
    "colab": {},
    "colab_type": "code",
    "id": "X6dHJgnsUmpH"
   },
   "outputs": [],
   "source": [
    "import numpy as np\n",
    "import pandas as pd\n",
    "import os"
   ]
  },
  {
   "cell_type": "code",
   "execution_count": 2,
   "metadata": {
    "colab": {
     "base_uri": "https://localhost:8080/",
     "height": 34
    },
    "colab_type": "code",
    "id": "x38Ty6oaVHTj",
    "outputId": "4145329b-a99f-4a00-a214-7f7dbe7b7892"
   },
   "outputs": [
    {
     "name": "stdout",
     "output_type": "stream",
     "text": [
      "Drive already mounted at /content/drive; to attempt to forcibly remount, call drive.mount(\"/content/drive\", force_remount=True).\n"
     ]
    }
   ],
   "source": [
    "from google.colab import drive\n",
    "drive.mount('/content/drive')"
   ]
  },
  {
   "cell_type": "code",
   "execution_count": 4,
   "metadata": {
    "colab": {
     "base_uri": "https://localhost:8080/",
     "height": 197
    },
    "colab_type": "code",
    "id": "zmekw0DhVJFJ",
    "outputId": "8fcff964-0d5e-4afe-b84f-0aab692dffc6"
   },
   "outputs": [
    {
     "data": {
      "text/html": [
       "<div>\n",
       "<style scoped>\n",
       "    .dataframe tbody tr th:only-of-type {\n",
       "        vertical-align: middle;\n",
       "    }\n",
       "\n",
       "    .dataframe tbody tr th {\n",
       "        vertical-align: top;\n",
       "    }\n",
       "\n",
       "    .dataframe thead th {\n",
       "        text-align: right;\n",
       "    }\n",
       "</style>\n",
       "<table border=\"1\" class=\"dataframe\">\n",
       "  <thead>\n",
       "    <tr style=\"text-align: right;\">\n",
       "      <th></th>\n",
       "      <th>book_id</th>\n",
       "      <th>user_id</th>\n",
       "      <th>rating</th>\n",
       "    </tr>\n",
       "  </thead>\n",
       "  <tbody>\n",
       "    <tr>\n",
       "      <th>0</th>\n",
       "      <td>1</td>\n",
       "      <td>314</td>\n",
       "      <td>5</td>\n",
       "    </tr>\n",
       "    <tr>\n",
       "      <th>1</th>\n",
       "      <td>1</td>\n",
       "      <td>439</td>\n",
       "      <td>3</td>\n",
       "    </tr>\n",
       "    <tr>\n",
       "      <th>2</th>\n",
       "      <td>1</td>\n",
       "      <td>588</td>\n",
       "      <td>5</td>\n",
       "    </tr>\n",
       "    <tr>\n",
       "      <th>3</th>\n",
       "      <td>1</td>\n",
       "      <td>1169</td>\n",
       "      <td>4</td>\n",
       "    </tr>\n",
       "    <tr>\n",
       "      <th>4</th>\n",
       "      <td>1</td>\n",
       "      <td>1185</td>\n",
       "      <td>4</td>\n",
       "    </tr>\n",
       "  </tbody>\n",
       "</table>\n",
       "</div>"
      ],
      "text/plain": [
       "   book_id  user_id  rating\n",
       "0        1      314       5\n",
       "1        1      439       3\n",
       "2        1      588       5\n",
       "3        1     1169       4\n",
       "4        1     1185       4"
      ]
     },
     "execution_count": 4,
     "metadata": {
      "tags": []
     },
     "output_type": "execute_result"
    }
   ],
   "source": [
    "rating = pd.read_csv(os.path.join(\"drive\",\"My Drive\",\"Colab Notebooks\", \"goodbooks-10k\",\"ratings.csv\"))\n",
    "rating.head()"
   ]
  },
  {
   "cell_type": "code",
   "execution_count": 5,
   "metadata": {
    "colab": {
     "base_uri": "https://localhost:8080/",
     "height": 34
    },
    "colab_type": "code",
    "id": "mUbvag3DVO_n",
    "outputId": "e20e2146-c793-4596-9f5d-2532cff420e7"
   },
   "outputs": [
    {
     "name": "stdout",
     "output_type": "stream",
     "text": [
      "10000 53424\n"
     ]
    }
   ],
   "source": [
    "nr_books = len(rating['book_id'].unique())\n",
    "nr_users = len(rating['user_id'].unique())\n",
    "print(nr_books, nr_users)"
   ]
  },
  {
   "cell_type": "code",
   "execution_count": 6,
   "metadata": {
    "colab": {
     "base_uri": "https://localhost:8080/",
     "height": 923
    },
    "colab_type": "code",
    "id": "UHRshSkMWAvO",
    "outputId": "fccc65bb-c31e-4e6c-8a7a-478a0a2218a4"
   },
   "outputs": [
    {
     "name": "stdout",
     "output_type": "stream",
     "text": [
      "  (1, 314)\t5.0\n",
      "  (1, 439)\t3.0\n",
      "  (1, 588)\t5.0\n",
      "  (1, 1169)\t4.0\n",
      "  (1, 1185)\t4.0\n",
      "  (1, 2077)\t4.0\n",
      "  (1, 2487)\t4.0\n",
      "  (1, 2900)\t5.0\n",
      "  (1, 3662)\t4.0\n",
      "  (1, 3922)\t5.0\n",
      "  (1, 5379)\t5.0\n",
      "  (1, 5461)\t3.0\n",
      "  (1, 5885)\t5.0\n",
      "  (1, 6630)\t5.0\n",
      "  (1, 7563)\t3.0\n",
      "  (1, 9246)\t1.0\n",
      "  (1, 10140)\t4.0\n",
      "  (1, 10146)\t5.0\n",
      "  (1, 10246)\t4.0\n",
      "  (1, 10335)\t4.0\n",
      "  (1, 10610)\t5.0\n",
      "  (1, 10944)\t5.0\n",
      "  (1, 11854)\t4.0\n",
      "  (1, 11927)\t4.0\n",
      "  (1, 12471)\t5.0\n",
      "  :\t:\n",
      "  (10000, 37777)\t5.0\n",
      "  (10000, 38663)\t4.0\n",
      "  (10000, 39251)\t4.0\n",
      "  (10000, 39997)\t4.0\n",
      "  (10000, 42257)\t5.0\n",
      "  (10000, 42537)\t4.0\n",
      "  (10000, 42810)\t3.0\n",
      "  (10000, 43068)\t3.0\n",
      "  (10000, 43318)\t4.0\n",
      "  (10000, 43319)\t5.0\n",
      "  (10000, 43744)\t4.0\n",
      "  (10000, 44206)\t4.0\n",
      "  (10000, 44655)\t3.0\n",
      "  (10000, 44889)\t4.0\n",
      "  (10000, 46337)\t5.0\n",
      "  (10000, 47069)\t4.0\n",
      "  (10000, 47326)\t3.0\n",
      "  (10000, 47515)\t4.0\n",
      "  (10000, 48201)\t5.0\n",
      "  (10000, 48281)\t4.0\n",
      "  (10000, 48386)\t5.0\n",
      "  (10000, 49007)\t4.0\n",
      "  (10000, 49383)\t5.0\n",
      "  (10000, 50124)\t5.0\n",
      "  (10000, 51328)\t1.0\n"
     ]
    }
   ],
   "source": [
    "from scipy.sparse import coo_matrix\n",
    "\n",
    "matrix = coo_matrix((rating['rating'].astype(float),\n",
    "                     (rating['book_id'], rating['user_id'])))\n",
    "print(matrix)"
   ]
  },
  {
   "cell_type": "code",
   "execution_count": 7,
   "metadata": {
    "colab": {
     "base_uri": "https://localhost:8080/",
     "height": 70
    },
    "colab_type": "code",
    "id": "SmjkndkcWLb2",
    "outputId": "d947c3f5-1cc9-4f3e-96ef-2582cf9b5a0f"
   },
   "outputs": [
    {
     "name": "stdout",
     "output_type": "stream",
     "text": [
      "[0.00774261 0.00342315 0.00406367 ... 0.00012635 0.00012628 0.00012621]\n",
      "0.5716303993829324\n",
      "(10001, 2000)\n"
     ]
    }
   ],
   "source": [
    "from sklearn.decomposition import TruncatedSVD\n",
    "\n",
    "svd = TruncatedSVD(n_components=2000, n_iter=10, random_state=23)\n",
    "sigma = svd.fit_transform(matrix)\n",
    "print(svd.explained_variance_ratio_)\n",
    "print(svd.explained_variance_ratio_.sum())\n",
    "print(sigma.shape)"
   ]
  },
  {
   "cell_type": "code",
   "execution_count": 8,
   "metadata": {
    "colab": {
     "base_uri": "https://localhost:8080/",
     "height": 246
    },
    "colab_type": "code",
    "id": "wXN7BGPrWPvg",
    "outputId": "778f0028-9c33-4eec-dec4-37e2e1924bdb"
   },
   "outputs": [
    {
     "data": {
      "text/html": [
       "<div>\n",
       "<style scoped>\n",
       "    .dataframe tbody tr th:only-of-type {\n",
       "        vertical-align: middle;\n",
       "    }\n",
       "\n",
       "    .dataframe tbody tr th {\n",
       "        vertical-align: top;\n",
       "    }\n",
       "\n",
       "    .dataframe thead th {\n",
       "        text-align: right;\n",
       "    }\n",
       "</style>\n",
       "<table border=\"1\" class=\"dataframe\">\n",
       "  <thead>\n",
       "    <tr style=\"text-align: right;\">\n",
       "      <th></th>\n",
       "      <th>0</th>\n",
       "      <th>1</th>\n",
       "      <th>2</th>\n",
       "      <th>3</th>\n",
       "      <th>4</th>\n",
       "      <th>5</th>\n",
       "      <th>6</th>\n",
       "      <th>7</th>\n",
       "      <th>8</th>\n",
       "      <th>9</th>\n",
       "      <th>...</th>\n",
       "      <th>9991</th>\n",
       "      <th>9992</th>\n",
       "      <th>9993</th>\n",
       "      <th>9994</th>\n",
       "      <th>9995</th>\n",
       "      <th>9996</th>\n",
       "      <th>9997</th>\n",
       "      <th>9998</th>\n",
       "      <th>9999</th>\n",
       "      <th>10000</th>\n",
       "    </tr>\n",
       "  </thead>\n",
       "  <tbody>\n",
       "    <tr>\n",
       "      <th>0</th>\n",
       "      <td>1.000000</td>\n",
       "      <td>0.114501</td>\n",
       "      <td>0.134330</td>\n",
       "      <td>0.107397</td>\n",
       "      <td>0.119608</td>\n",
       "      <td>0.127664</td>\n",
       "      <td>-0.009242</td>\n",
       "      <td>0.107984</td>\n",
       "      <td>0.141741</td>\n",
       "      <td>0.105720</td>\n",
       "      <td>...</td>\n",
       "      <td>0.009914</td>\n",
       "      <td>-0.071013</td>\n",
       "      <td>-0.010680</td>\n",
       "      <td>-0.027268</td>\n",
       "      <td>0.002716</td>\n",
       "      <td>-0.093198</td>\n",
       "      <td>-0.002125</td>\n",
       "      <td>-0.008321</td>\n",
       "      <td>-0.005731</td>\n",
       "      <td>0.002781</td>\n",
       "    </tr>\n",
       "    <tr>\n",
       "      <th>1</th>\n",
       "      <td>0.114501</td>\n",
       "      <td>1.000000</td>\n",
       "      <td>0.653566</td>\n",
       "      <td>0.604738</td>\n",
       "      <td>0.555059</td>\n",
       "      <td>0.573728</td>\n",
       "      <td>0.306774</td>\n",
       "      <td>0.500669</td>\n",
       "      <td>0.476754</td>\n",
       "      <td>0.576653</td>\n",
       "      <td>...</td>\n",
       "      <td>0.018074</td>\n",
       "      <td>-0.003581</td>\n",
       "      <td>0.004660</td>\n",
       "      <td>0.000217</td>\n",
       "      <td>0.016205</td>\n",
       "      <td>-0.000029</td>\n",
       "      <td>0.002547</td>\n",
       "      <td>0.000703</td>\n",
       "      <td>-0.000668</td>\n",
       "      <td>0.008048</td>\n",
       "    </tr>\n",
       "    <tr>\n",
       "      <th>2</th>\n",
       "      <td>0.134330</td>\n",
       "      <td>0.653566</td>\n",
       "      <td>1.000000</td>\n",
       "      <td>0.599797</td>\n",
       "      <td>0.714114</td>\n",
       "      <td>0.700147</td>\n",
       "      <td>0.201772</td>\n",
       "      <td>0.676989</td>\n",
       "      <td>0.593163</td>\n",
       "      <td>0.614667</td>\n",
       "      <td>...</td>\n",
       "      <td>0.010831</td>\n",
       "      <td>0.006798</td>\n",
       "      <td>-0.005394</td>\n",
       "      <td>0.000191</td>\n",
       "      <td>0.018183</td>\n",
       "      <td>0.002648</td>\n",
       "      <td>-0.002565</td>\n",
       "      <td>-0.001626</td>\n",
       "      <td>-0.004395</td>\n",
       "      <td>0.012878</td>\n",
       "    </tr>\n",
       "    <tr>\n",
       "      <th>3</th>\n",
       "      <td>0.107397</td>\n",
       "      <td>0.604738</td>\n",
       "      <td>0.599797</td>\n",
       "      <td>1.000000</td>\n",
       "      <td>0.438341</td>\n",
       "      <td>0.434718</td>\n",
       "      <td>0.356972</td>\n",
       "      <td>0.441128</td>\n",
       "      <td>0.570992</td>\n",
       "      <td>0.447850</td>\n",
       "      <td>...</td>\n",
       "      <td>0.016980</td>\n",
       "      <td>0.002504</td>\n",
       "      <td>-0.002089</td>\n",
       "      <td>0.000337</td>\n",
       "      <td>-0.001310</td>\n",
       "      <td>0.001515</td>\n",
       "      <td>0.000996</td>\n",
       "      <td>-0.001917</td>\n",
       "      <td>-0.002802</td>\n",
       "      <td>0.008698</td>\n",
       "    </tr>\n",
       "    <tr>\n",
       "      <th>4</th>\n",
       "      <td>0.119608</td>\n",
       "      <td>0.555059</td>\n",
       "      <td>0.714114</td>\n",
       "      <td>0.438341</td>\n",
       "      <td>1.000000</td>\n",
       "      <td>0.817680</td>\n",
       "      <td>0.144365</td>\n",
       "      <td>0.624983</td>\n",
       "      <td>0.733660</td>\n",
       "      <td>0.560850</td>\n",
       "      <td>...</td>\n",
       "      <td>0.028940</td>\n",
       "      <td>0.000149</td>\n",
       "      <td>-0.007943</td>\n",
       "      <td>-0.001194</td>\n",
       "      <td>0.036656</td>\n",
       "      <td>0.001065</td>\n",
       "      <td>-0.000311</td>\n",
       "      <td>-0.000605</td>\n",
       "      <td>0.000760</td>\n",
       "      <td>0.000696</td>\n",
       "    </tr>\n",
       "  </tbody>\n",
       "</table>\n",
       "<p>5 rows × 10001 columns</p>\n",
       "</div>"
      ],
      "text/plain": [
       "      0         1         2         3         4         5         6      \\\n",
       "0  1.000000  0.114501  0.134330  0.107397  0.119608  0.127664 -0.009242   \n",
       "1  0.114501  1.000000  0.653566  0.604738  0.555059  0.573728  0.306774   \n",
       "2  0.134330  0.653566  1.000000  0.599797  0.714114  0.700147  0.201772   \n",
       "3  0.107397  0.604738  0.599797  1.000000  0.438341  0.434718  0.356972   \n",
       "4  0.119608  0.555059  0.714114  0.438341  1.000000  0.817680  0.144365   \n",
       "\n",
       "      7         8         9        ...        9991      9992      9993   \\\n",
       "0  0.107984  0.141741  0.105720    ...     0.009914 -0.071013 -0.010680   \n",
       "1  0.500669  0.476754  0.576653    ...     0.018074 -0.003581  0.004660   \n",
       "2  0.676989  0.593163  0.614667    ...     0.010831  0.006798 -0.005394   \n",
       "3  0.441128  0.570992  0.447850    ...     0.016980  0.002504 -0.002089   \n",
       "4  0.624983  0.733660  0.560850    ...     0.028940  0.000149 -0.007943   \n",
       "\n",
       "      9994      9995      9996      9997      9998      9999      10000  \n",
       "0 -0.027268  0.002716 -0.093198 -0.002125 -0.008321 -0.005731  0.002781  \n",
       "1  0.000217  0.016205 -0.000029  0.002547  0.000703 -0.000668  0.008048  \n",
       "2  0.000191  0.018183  0.002648 -0.002565 -0.001626 -0.004395  0.012878  \n",
       "3  0.000337 -0.001310  0.001515  0.000996 -0.001917 -0.002802  0.008698  \n",
       "4 -0.001194  0.036656  0.001065 -0.000311 -0.000605  0.000760  0.000696  \n",
       "\n",
       "[5 rows x 10001 columns]"
      ]
     },
     "execution_count": 8,
     "metadata": {
      "tags": []
     },
     "output_type": "execute_result"
    }
   ],
   "source": [
    "from sklearn.metrics.pairwise import cosine_similarity\n",
    "\n",
    "# Create similarities for every book\n",
    "udf = pd.DataFrame(cosine_similarity(sigma))\n",
    "udf.head()"
   ]
  },
  {
   "cell_type": "code",
   "execution_count": 9,
   "metadata": {
    "colab": {
     "base_uri": "https://localhost:8080/",
     "height": 496
    },
    "colab_type": "code",
    "id": "FdcTafObWSNG",
    "outputId": "d8ea2b9d-1a52-4d88-bae1-7ceebdb9a12d"
   },
   "outputs": [
    {
     "name": "stdout",
     "output_type": "stream",
     "text": [
      "                                     title    authors\n",
      "25  The Da Vinci Code (Robert Langdon, #2)  Dan Brown\n",
      "                        title        authors\n",
      "4982  The Heart of the Matter  Graham Greene\n",
      "                                      title          authors\n",
      "5305  The Confusion (The Baroque Cycle, #2)  Neal Stephenson\n",
      "                                                  title            authors\n",
      "8914  Breaking the Spell: Religion as a Natural Phen...  Daniel C. Dennett\n",
      "                      title         authors\n",
      "3467  The Rapture of Canaan  Sheri Reynolds\n",
      "                                                 title  \\\n",
      "892  Fullmetal Alchemist, Vol. 1 (Fullmetal Alchemi...   \n",
      "\n",
      "                            authors  \n",
      "892  Hiromu Arakawa, Akira Watanabe  \n",
      "            title      authors\n",
      "496  Black Beauty  Anna Sewell\n",
      "             title        authors\n",
      "6726  Burmese Days  George Orwell\n",
      "                                                  title       authors\n",
      "1223  The Elegant Universe: Superstrings, Hidden Dim...  Brian Greene\n",
      "                           title       authors\n",
      "5699  Waiting for the Barbarians  J.M. Coetzee\n",
      "                                             title     authors\n",
      "585  A Great and Terrible Beauty (Gemma Doyle, #1)  Libba Bray\n",
      "                                                  title              authors\n",
      "2743  Everyday Italian: 125 Simple and Delicious Rec...  Giada De Laurentiis\n"
     ]
    }
   ],
   "source": [
    "# With similarities of every book, we could search similar books for book_id==968, which is Dan Brown's 'The Da Vinci Code'\n",
    "\n",
    "associate_books = udf.iloc[968].sort_values(ascending = False)\n",
    "\n",
    "books = pd.read_csv(os.path.join(\"drive\",\"My Drive\",\"Colab Notebooks\", \"goodbooks-10k\",\"books.csv\"))\n",
    "\n",
    "list = []\n",
    "for idx in associate_books.index[:100]:\n",
    "    res = books.loc[books['book_id'] == idx]\n",
    "    if not res.empty:\n",
    "        print(res[['title', 'authors']])"
   ]
  },
  {
   "cell_type": "code",
   "execution_count": 0,
   "metadata": {
    "colab": {},
    "colab_type": "code",
    "id": "hV_v7jJFX74P"
   },
   "outputs": [],
   "source": []
  }
 ],
 "metadata": {
  "colab": {
   "collapsed_sections": [],
   "name": "Collabrative filtering(Item Based Truncated SVN).ipynb",
   "provenance": [],
   "version": "0.3.2"
  },
  "kernelspec": {
   "display_name": "Python 3",
   "language": "python",
   "name": "python3"
  },
  "language_info": {
   "codemirror_mode": {
    "name": "ipython",
    "version": 3
   },
   "file_extension": ".py",
   "mimetype": "text/x-python",
   "name": "python",
   "nbconvert_exporter": "python",
   "pygments_lexer": "ipython3",
   "version": "3.6.5"
  }
 },
 "nbformat": 4,
 "nbformat_minor": 1
}
